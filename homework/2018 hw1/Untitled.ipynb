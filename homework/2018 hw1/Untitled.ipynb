{
 "cells": [
  {
   "cell_type": "code",
   "execution_count": 2,
   "id": "2bf13d2f-4baf-42a7-841d-2553965d5ba0",
   "metadata": {},
   "outputs": [],
   "source": [
    "import numpy as np"
   ]
  },
  {
   "cell_type": "code",
   "execution_count": 9,
   "id": "11c6e5cd-3857-434e-9d46-1cb2479eddc0",
   "metadata": {},
   "outputs": [],
   "source": [
    "A = np.array([1,0,1])"
   ]
  },
  {
   "cell_type": "code",
   "execution_count": 12,
   "id": "c345cc62-b31b-4757-89c3-2957def1e518",
   "metadata": {},
   "outputs": [
    {
     "name": "stdout",
     "output_type": "stream",
     "text": [
      "[1 0 1]\n"
     ]
    }
   ],
   "source": [
    "print(A)"
   ]
  },
  {
   "cell_type": "code",
   "execution_count": 40,
   "id": "e6e070d5-2a23-41e5-b7b6-c637361c7286",
   "metadata": {},
   "outputs": [
    {
     "name": "stdout",
     "output_type": "stream",
     "text": [
      "(3,)\n"
     ]
    }
   ],
   "source": [
    "np.reshape(A, (3,1))\n",
    "print(A.shape)"
   ]
  },
  {
   "cell_type": "code",
   "execution_count": 5,
   "id": "723851f4-cb53-4a48-909e-a529ecf7924a",
   "metadata": {},
   "outputs": [
    {
     "data": {
      "text/plain": [
       "2"
      ]
     },
     "execution_count": 5,
     "metadata": {},
     "output_type": "execute_result"
    }
   ],
   "source": [
    "np.sum(A == 1)"
   ]
  },
  {
   "cell_type": "code",
   "execution_count": 28,
   "id": "6cbdf416-be79-42bb-9198-6cff2f213587",
   "metadata": {},
   "outputs": [],
   "source": [
    "B = np.array([[1,2,3,5],[4,5,6,10],[7,8,9, 15]])"
   ]
  },
  {
   "cell_type": "code",
   "execution_count": 29,
   "id": "ee7d472e-ceb3-4bec-b95f-513fea238563",
   "metadata": {},
   "outputs": [
    {
     "name": "stdout",
     "output_type": "stream",
     "text": [
      "[[ 1  2  3  5]\n",
      " [ 4  5  6 10]\n",
      " [ 7  8  9 15]]\n"
     ]
    }
   ],
   "source": [
    "print(B)"
   ]
  },
  {
   "cell_type": "code",
   "execution_count": 30,
   "id": "9d678341-256c-4a07-9b27-a998966cb7c8",
   "metadata": {},
   "outputs": [
    {
     "name": "stdout",
     "output_type": "stream",
     "text": [
      "[ 4  5  6 10]\n"
     ]
    }
   ],
   "source": [
    "mu= np.dot(B.T, A == 0)\n",
    "print(mu)"
   ]
  },
  {
   "cell_type": "code",
   "execution_count": 31,
   "id": "89878b87-c7b9-4926-8dbc-6535f5d9fd94",
   "metadata": {},
   "outputs": [
    {
     "data": {
      "text/plain": [
       "array([[-3, -3, -3, -5],\n",
       "       [ 0,  0,  0,  0],\n",
       "       [ 3,  3,  3,  5]])"
      ]
     },
     "execution_count": 31,
     "metadata": {},
     "output_type": "execute_result"
    }
   ],
   "source": [
    "B - mu"
   ]
  },
  {
   "cell_type": "code",
   "execution_count": 32,
   "id": "03e2fdee-3626-40e3-a666-fe333e2800d5",
   "metadata": {},
   "outputs": [
    {
     "name": "stdout",
     "output_type": "stream",
     "text": [
      "(3, 4)\n",
      "(3,)\n"
     ]
    }
   ],
   "source": [
    "print((B-mu).shape)\n",
    "print(A.shape)"
   ]
  },
  {
   "cell_type": "code",
   "execution_count": 42,
   "id": "3cd659a3-5a32-4f27-a0b9-0c6427042638",
   "metadata": {},
   "outputs": [
    {
     "data": {
      "text/plain": [
       "array([[0, 0, 0],\n",
       "       [0, 0, 0],\n",
       "       [0, 0, 0],\n",
       "       [0, 0, 0]])"
      ]
     },
     "execution_count": 42,
     "metadata": {},
     "output_type": "execute_result"
    }
   ],
   "source": [
    "(B-mu).T * (A == 0)"
   ]
  },
  {
   "cell_type": "code",
   "execution_count": 35,
   "id": "c525ec9c-3828-4eb8-b938-2b59e080e67a",
   "metadata": {},
   "outputs": [
    {
     "data": {
      "text/plain": [
       "array([[-3,  0,  3],\n",
       "       [-3,  0,  3],\n",
       "       [-3,  0,  3],\n",
       "       [-5,  0,  5]])"
      ]
     },
     "execution_count": 35,
     "metadata": {},
     "output_type": "execute_result"
    }
   ],
   "source": [
    "(B-mu).T * (A == 1)"
   ]
  },
  {
   "cell_type": "code",
   "execution_count": 38,
   "id": "a8d665f3-d12d-45ba-919c-3cfe72df502a",
   "metadata": {},
   "outputs": [
    {
     "data": {
      "text/plain": [
       "(3,)"
      ]
     },
     "execution_count": 38,
     "metadata": {},
     "output_type": "execute_result"
    }
   ],
   "source": [
    "A.shape"
   ]
  },
  {
   "cell_type": "code",
   "execution_count": 3,
   "id": "dcd42e1d-7f78-4ee6-be6e-06ccc60bef55",
   "metadata": {},
   "outputs": [],
   "source": [
    "A = np.array([[1,2,3],[4,5,6],[7,8,9]])\n",
    "B = np.array([[9,8,7],[6,5,4],[3,2,1]])"
   ]
  },
  {
   "cell_type": "code",
   "execution_count": 4,
   "id": "9ab6c92e-11e9-4afb-9dcb-354d32f52a58",
   "metadata": {},
   "outputs": [
    {
     "name": "stdout",
     "output_type": "stream",
     "text": [
      "[[-8 -6 -4]\n",
      " [-2  0  2]\n",
      " [ 4  6  8]]\n"
     ]
    }
   ],
   "source": [
    "print(A-B)"
   ]
  },
  {
   "cell_type": "code",
   "execution_count": 6,
   "id": "8dc30b71-6a48-4e4f-b869-792e5641c2ed",
   "metadata": {},
   "outputs": [
    {
     "name": "stdout",
     "output_type": "stream",
     "text": [
      "10.770329614269007\n"
     ]
    }
   ],
   "source": [
    "print(np.linalg.norm(A[0]-B[0]))"
   ]
  },
  {
   "cell_type": "code",
   "execution_count": 7,
   "id": "900e01a1-b1c1-45ce-b459-610482e8177d",
   "metadata": {},
   "outputs": [
    {
     "name": "stdout",
     "output_type": "stream",
     "text": [
      "10.770329614269007\n"
     ]
    }
   ],
   "source": [
    "print(np.linalg.norm((A-B)[0]))"
   ]
  },
  {
   "cell_type": "code",
   "execution_count": 8,
   "id": "0e3437f9-206b-4f68-9914-2883defbd1ad",
   "metadata": {},
   "outputs": [],
   "source": [
    "W = np.zeros((3,3))"
   ]
  },
  {
   "cell_type": "code",
   "execution_count": 10,
   "id": "9f03fab6-765a-4941-9d38-2751525c92c2",
   "metadata": {},
   "outputs": [],
   "source": [
    "for i in range(3):\n",
    "    W[i][i] = np.linalg.norm((A-B)[i])"
   ]
  },
  {
   "cell_type": "code",
   "execution_count": 11,
   "id": "4888d6fd-6409-4745-aa55-0ea67ce6e21f",
   "metadata": {},
   "outputs": [
    {
     "name": "stdout",
     "output_type": "stream",
     "text": [
      "[[10.77032961  0.          0.        ]\n",
      " [ 0.          2.82842712  0.        ]\n",
      " [ 0.          0.         10.77032961]]\n"
     ]
    }
   ],
   "source": [
    "print(W)"
   ]
  },
  {
   "cell_type": "code",
   "execution_count": 12,
   "id": "dc4de6e3-3480-4aba-b8b4-42434b302126",
   "metadata": {},
   "outputs": [
    {
     "data": {
      "text/plain": [
       "array([[0, 0, 0],\n",
       "       [3, 3, 3],\n",
       "       [6, 6, 6]])"
      ]
     },
     "execution_count": 12,
     "metadata": {},
     "output_type": "execute_result"
    }
   ],
   "source": [
    "A - [[1,2,3]]"
   ]
  },
  {
   "cell_type": "code",
   "execution_count": null,
   "id": "0275ec1c-bebc-438a-b9e9-26d112145e77",
   "metadata": {},
   "outputs": [],
   "source": []
  }
 ],
 "metadata": {
  "kernelspec": {
   "display_name": "Python 3 (ipykernel)",
   "language": "python",
   "name": "python3"
  },
  "language_info": {
   "codemirror_mode": {
    "name": "ipython",
    "version": 3
   },
   "file_extension": ".py",
   "mimetype": "text/x-python",
   "name": "python",
   "nbconvert_exporter": "python",
   "pygments_lexer": "ipython3",
   "version": "3.11.2"
  }
 },
 "nbformat": 4,
 "nbformat_minor": 5
}
