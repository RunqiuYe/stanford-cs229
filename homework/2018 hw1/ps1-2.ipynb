{
 "cells": [
  {
   "cell_type": "markdown",
   "id": "a7da6f59-e233-4547-9127-cd0b27967f42",
   "metadata": {},
   "source": [
    "# ps1-2: incomplete, positive-only labels"
   ]
  },
  {
   "cell_type": "markdown",
   "id": "ca07c008-5c6c-43fc-9da4-be3632b503d6",
   "metadata": {},
   "source": [
    "## (c)"
   ]
  },
  {
   "cell_type": "code",
   "execution_count": null,
   "id": "04193c6b-e8e0-494f-883b-20e43c0a8de6",
   "metadata": {},
   "outputs": [],
   "source": []
  }
 ],
 "metadata": {
  "kernelspec": {
   "display_name": "Python 3 (ipykernel)",
   "language": "python",
   "name": "python3"
  },
  "language_info": {
   "codemirror_mode": {
    "name": "ipython",
    "version": 3
   },
   "file_extension": ".py",
   "mimetype": "text/x-python",
   "name": "python",
   "nbconvert_exporter": "python",
   "pygments_lexer": "ipython3",
   "version": "3.11.2"
  }
 },
 "nbformat": 4,
 "nbformat_minor": 5
}
